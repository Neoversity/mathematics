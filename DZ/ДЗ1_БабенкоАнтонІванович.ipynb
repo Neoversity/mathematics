{
  "nbformat": 4,
  "nbformat_minor": 0,
  "metadata": {
    "colab": {
      "provenance": []
    },
    "kernelspec": {
      "name": "python3",
      "display_name": "Python 3"
    },
    "language_info": {
      "name": "python"
    }
  },
  "cells": [
    {
      "cell_type": "code",
      "execution_count": null,
      "metadata": {
        "colab": {
          "base_uri": "https://localhost:8080/"
        },
        "id": "2BvVUWxqwRnn",
        "outputId": "3979cac3-ce86-4b14-9851-226620bb589f"
      },
      "outputs": [
        {
          "output_type": "stream",
          "name": "stdout",
          "text": [
            "1. Сума а та b:  [[1.5 3.  5.  7.  9. ]]\n",
            "2. Різниця : [[0.5 1.  1.  1.  1. ]]\n",
            "3. сума a + b.т:\n",
            " [[1.5 2.5 3.5 4.5 5.5]\n",
            " [2.  3.  4.  5.  6. ]\n",
            " [3.  4.  5.  6.  7. ]\n",
            " [4.  5.  6.  7.  8. ]\n",
            " [5.  6.  7.  8.  9. ]]\n",
            "4. Добуток матриць a та b^T: [[ 0.5  1.   2.   3.   4. ]\n",
            " [ 1.   2.   4.   6.   8. ]\n",
            " [ 1.5  3.   6.   9.  12. ]\n",
            " [ 2.   4.   8.  12.  16. ]\n",
            " [ 2.5  5.  10.  15.  20. ]]\n",
            "5. Скалярний добуток a та b:\n",
            " 40.5\n",
            "6. Добуток Адамара a та b:\n",
            " [[ 0.5  2.   6.  12.  20. ]]\n",
            "7. Ділення a та b:\n",
            " [[2.         2.         1.5        1.33333333 1.25      ]]\n",
            "8. ділення 𝑎‾ та 𝑏‾𝑇:\n",
            " [[ 2.          1.          0.5         0.33333333  0.25      ]\n",
            " [ 4.          2.          1.          0.66666667  0.5       ]\n",
            " [ 6.          3.          1.5         1.          0.75      ]\n",
            " [ 8.          4.          2.          1.33333333  1.        ]\n",
            " [10.          5.          2.5         1.66666667  1.25      ]]\n"
          ]
        }
      ],
      "source": [
        "import numpy as np\n",
        "\n",
        "# Вектори\n",
        "a = np.array([[1, 2, 3, 4, 5]])\n",
        "b = np.array([[1/2, 1, 2, 3, 4]])\n",
        "\n",
        "# 1. сума\n",
        "sum_ab = a + b\n",
        "print(\"1. Сума а та b: \", sum_ab)\n",
        "\n",
        "# 2. Різниця\n",
        "difr_ab = a - b\n",
        "print(\"2. Різниця :\", difr_ab)\n",
        "\n",
        "# 3. сума a + b.т\n",
        "#Даний код обчислює суму векторів a та b, де a - це рядок, а b - стовпець.\n",
        "#Сума обчислюється поелементно, тобто кожній відповідному парі із векторів a та b додаються один до одного.\n",
        "b2 = np.array([[1/2, 1, 2, 3, 4]]).T\n",
        "print(\"3. сума a + b.т:\\n\", a + b2)\n",
        "\n",
        "# 4. Матричний добуток a та b^T\n",
        "# Вектори на матриці з одним стовпцем\n",
        "a_matrix = a.reshape(-1, 1)\n",
        "b_matrix = b.reshape(-1, 1)\n",
        "dot_product_ab = np.dot(a_matrix, b_matrix.T)\n",
        "print(\"4. Добуток матриць a та b^T:\", dot_product_ab)\n",
        "\n",
        "# 5. Скалярний добуток a та b\n",
        "# Використали транспонування 𝑏 (перетворили вектор-рядок у вектор-стовпець):\n",
        "scalar_product = np.dot(a, b.T)[0, 0]\n",
        "print(\"5. Скалярний добуток a та b:\\n\", scalar_product)\n",
        "\n",
        "# 6. Добуток Адамара\n",
        "hadamard_ab = a * b\n",
        "print(\"6. Добуток Адамара a та b:\\n\", hadamard_ab)\n",
        "\n",
        "\n",
        "\n",
        "# 7. Ділення\n",
        "division_ab = a / b\n",
        "print(\"7. Ділення a та b:\\n\", division_ab)\n",
        "\n",
        "# 8. ділення 𝑎‾ та 𝑏‾𝑇  Поясни отриманий результат.\n",
        "division_matrix = a.T / b\n",
        "print(\"8. ділення 𝑎‾ та 𝑏‾𝑇:\\n\", division_matrix)"
      ]
    },
    {
      "cell_type": "code",
      "source": [
        "import numpy as np\n",
        "import matplotlib.pyplot as plt\n",
        "\n",
        "# Початковий вектор з розширеним виміром\n",
        "x = np.array([2, 1])\n",
        "\n",
        "# 1. Зменшення вектора x в 2 рази по осі OX та збільшення в 3 рази по осі OY\n",
        "# Визначення матриці перетворення\n",
        "sx = 0.5  # Зменшення в 2 рази по вісі OX\n",
        "sy = 3    # Збільшення в 3 рази по вісі OY\n",
        "T1 = np.array([[sx, 0],[0, sy]])  # Правильний спосіб ініціалізувати матрицю T\n",
        "\n",
        "# Застосування матриці перетворення до вектора x\n",
        "x1 = np.dot(T1, x)\n",
        "\n",
        "print(\"1. Зменшення в 2 рази по вісі OX Збільшення в 3 рази по вісі OY :\\n\", x1)\n",
        "\n",
        "# 2. Відображення вектора x відносно початку координат\n",
        "x2 = -x\n",
        "print(\"2. Відображення вектора x:\\n\", x2)\n",
        "\n",
        "# 3. Перенесення вектора на -3 по осі OX та на 1 по осі OY\n",
        "# Визначення матриці перетворення\n",
        "T2 = np.array([[1, 0], [0, 1]])\n",
        "translation = np.array([-3, 1])\n",
        "x3 = np.dot(T2, x) + translation\n",
        "\n",
        "print(\"3. Перенесений вектор x:\\n\", x3)\n",
        "\n",
        "# 4. Зміщення вектора x на 60° по осі OY\n",
        "# Визначення матриці перетворення для зсуву на 60°\n",
        "angle_rad = np.radians(60)  # Перетворення градусів в радіани\n",
        "T3 = np.array([[np.cos(angle_rad), -np.sin(angle_rad)],\n",
        "               [np.sin(angle_rad), np.cos(angle_rad)]])\n",
        "\n",
        "# Застосування матриці перетворення до вектора x\n",
        "x4 = np.dot(T3, x)\n",
        "print(\"4. Зміщення вектора x на 60° по осі OY:\\n\", x4)\n",
        "\n",
        "# 5. Повернення вектора на 30°\n",
        "# Визначення матриці перетворення для повороту на 30°\n",
        "angle_rad_30 = np.radians(30)\n",
        "T4 = np.array([[np.cos(angle_rad_30), -np.sin(angle_rad_30)],\n",
        "               [np.sin(angle_rad_30), np.cos(angle_rad_30)]])\n",
        "\n",
        "# Застосування матриці перетворення до вектора x\n",
        "x5 = np.dot(T4, x)\n",
        "\n",
        "print(\"5. Повернення вектора x на 30°:\\n\", x5)\n",
        "\n",
        "# 6. Об'єднання перетворень з кроків 1, 2, 4, 5 в одну матрицю\n",
        "T_total = np.dot(T4, np.dot(T3, np.dot(T2, T1)))\n",
        "# Застосування матриці перетворення до вектора x\n",
        "x_transformed = np.dot(T_total, x)\n",
        "\n",
        "print(\"6. Перетворений вектор x:\\n\", x_transformed)\n",
        "\n",
        "# Створення графіку\n",
        "fig, ax = plt.subplots()\n",
        "ax.set_xlim(-6, 6)\n",
        "ax.set_ylim(-6, 6)\n",
        "ax.set_aspect('equal', 'box')\n",
        "\n",
        "# Відображення векторів з прозорою прозорістю\n",
        "ax.quiver(0, 0, x[0], x[1], angles='xy', scale_units='xy', scale=1, color='blue', alpha=0.5, label='2. Original x')\n",
        "ax.quiver(0, 0, x1[0], x1[1], angles='xy', scale_units='xy', scale=1, color='green', alpha=0.5, label='1. Scaled x')\n",
        "ax.quiver(0, 0, x2[0], x2[1], angles='xy', scale_units='xy', scale=1, color='red', alpha=0.5, label='dop. Reflected x')\n",
        "ax.quiver(0, 0, x3[0], x3[1], angles='xy', scale_units='xy', scale=1, color='purple', alpha=0.5, label='3. Translated x')\n",
        "ax.quiver(0, 0, x4[0], x4[1], angles='xy', scale_units='xy', scale=1, color='orange', alpha=0.5, label='4. Rotated 60° x')\n",
        "ax.quiver(0, 0, x5[0], x5[1], angles='xy', scale_units='xy', scale=1, color='brown', alpha=0.5, label='5. Rotated 30° x')\n",
        "ax.quiver(0, 0, x_transformed[0], x_transformed[1], angles='xy', scale_units='xy', scale=1, color='black', alpha=0.5, label='6. Combined Transform x')\n",
        "\n",
        "# Додавання сітки\n",
        "ax.grid(True)\n",
        "\n",
        "# Додавання легенди\n",
        "ax.legend()\n",
        "\n",
        "# Показ графіку\n",
        "plt.show()\n"
      ],
      "metadata": {
        "colab": {
          "base_uri": "https://localhost:8080/",
          "height": 650
        },
        "id": "IlRb9QyjzveH",
        "outputId": "eb3c203f-0d61-47e1-8a20-300d39f7c863"
      },
      "execution_count": null,
      "outputs": [
        {
          "output_type": "stream",
          "name": "stdout",
          "text": [
            "1. Зменшення в 2 рази по вісі OX Збільшення в 3 рази по вісі OY :\n",
            " [1. 3.]\n",
            "2. Відображення вектора x:\n",
            " [-2 -1]\n",
            "3. Перенесений вектор x:\n",
            " [-1  2]\n",
            "4. Зміщення вектора x на 60° по осі OY:\n",
            " [0.1339746  2.23205081]\n",
            "5. Повернення вектора x на 30°:\n",
            " [1.23205081 1.8660254 ]\n",
            "6. Перетворений вектор x:\n",
            " [-3.  1.]\n"
          ]
        },
        {
          "output_type": "display_data",
          "data": {
            "text/plain": [
              "<Figure size 640x480 with 1 Axes>"
            ],
            "image/png": "[encoded data removed]"
          },
          "metadata": {}
        }
      ]
    },
    {
      "cell_type": "code",
      "source": [],
      "metadata": {
        "id": "cMny2tpa54OA"
      },
      "execution_count": null,
      "outputs": []
    }
  ]
}